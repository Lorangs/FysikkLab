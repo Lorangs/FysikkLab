{
 "cells": [
  {
   "cell_type": "markdown",
   "metadata": {},
   "source": [
    "Dato:   05.10.2023\n",
    "Filming og samling av data.\n",
    "Deltakere:  L. Strand, \n",
    "            P. Juzenas, \n",
    "            U. Garmark-Anker,\n",
    "            P. C. Cappelen, \n",
    "            N. Rognmo\n",
    "\n",
    "\n",
    "Kulebanen ble stilt inn etter mål fra utregning av baneformen.\n"
   ]
  }
 ],
 "metadata": {
  "language_info": {
   "name": "python"
  }
 },
 "nbformat": 4,
 "nbformat_minor": 2
}
