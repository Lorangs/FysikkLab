{
 "cells": [
  {
   "cell_type": "markdown",
   "metadata": {},
   "source": [
    "Dato:   05.10.2023\n",
    "Filming og samling av data.\n",
    "Deltakere:  L. Strand, \n",
    "            P. Juzenas, \n",
    "            U. Garmark-Anker,\n",
    "            P. C. Cappelen, \n",
    "            N. Rognmo\n",
    "\n",
    "\n",
    "Kulebanen ble stilt inn etter mål fra utregning av baneformen.\n",
    "10 forsøk ble utført og filmet. \n",
    "Alle videoene ble analysert i analyseprogrammet Tracker.\n",
    "Data ble eksportert og lagret i csv format i .txt filer.\n",
    "Alle dataene ble analysert og vi beregnet snittet, standardavviket og standarfeilen. \n",
    "\n"
   ]
  }
 ],
 "metadata": {
  "language_info": {
   "name": "python"
  }
 },
 "nbformat": 4,
 "nbformat_minor": 2
}
